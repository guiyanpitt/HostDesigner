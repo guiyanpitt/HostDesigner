{
 "cells": [
  {
   "cell_type": "code",
   "execution_count": null,
   "metadata": {
    "collapsed": false
   },
   "outputs": [],
   "source": [
    "import os\n",
    "\n",
    "main_dir = os.getcwd()\n",
    "library_dir = os.path.join(main_dir,'HD_3.0', '02_DataFiles')\n",
    "library_path = os.path.join(library_dir, 'LIBRARY')\n",
    "library_file = open(library_path, 'r')\n",
    "lib_lines = library_file.readlines()"
   ]
  },
  {
   "cell_type": "code",
   "execution_count": null,
   "metadata": {
    "collapsed": false
   },
   "outputs": [],
   "source": [
    "connectivity_index = []\n",
    "coordinate_index = []\n",
    "number_of_atoms = []\n",
    "linker_index = []\n",
    "linker_names = []\n",
    "num_of_linkers = 0\n",
    "for line_index, line in enumerate(lib_lines):\n",
    "    if 'LINK' in line:\n",
    "        linker_names.append(lib_lines[line_index].split()[-1])\n",
    "        linker_index.append(num_of_linkers)\n",
    "        connectivity_index.append(line_index + 1)\n",
    "        coordinate_index.append(line_index + 6)\n",
    "        num_atom = float(lib_lines[line_index + 5].split()[0])\n",
    "        number_of_atoms.append(num_atom)\n",
    "        num_of_linkers += 1"
   ]
  },
  {
   "cell_type": "code",
   "execution_count": null,
   "metadata": {
    "collapsed": false
   },
   "outputs": [],
   "source": [
    "atom_names = []\n",
    "atom_coors = []\n",
    "atom_coors_symmetry = []\n",
    "for num_index, num in enumerate(number_of_atoms):\n",
    "    coor_index = coordinate_index[num_index]\n",
    "    connect_index = connectivity_index[num_index]\n",
    "    atom_names.append([])\n",
    "    atom_coors.append([])\n",
    "    atom_coors_symmetry.append([])\n",
    "    for i in range(int(num)):\n",
    "        atom_name = lib_lines[coor_index + i].split()[1]\n",
    "        if atom_name == 'X':\n",
    "            atom_name = 'O'\n",
    "        x = float(lib_lines[coor_index + i].split()[2])\n",
    "        y = float(lib_lines[coor_index + i].split()[3])\n",
    "        z = float(lib_lines[coor_index + i].split()[4])\n",
    "        x1 = float(x * (-1))\n",
    "        atom_names[num_index].append(atom_name)\n",
    "        atom_coors[num_index].append([x, y, z])\n",
    "        atom_coors_symmetry[num_index].append([x1, y, z])"
   ]
  },
  {
   "cell_type": "code",
   "execution_count": null,
   "metadata": {
    "collapsed": false
   },
   "outputs": [],
   "source": [
    "atom_coors_symmetry[100]"
   ]
  },
  {
   "cell_type": "code",
   "execution_count": null,
   "metadata": {
    "collapsed": false
   },
   "outputs": [],
   "source": [
    "class Linker:\n",
    "    def __init__(self, linker_index):\n",
    "        linker_info = self.read_linker(linker_index)\n",
    "        self.index = linker_index\n",
    "        self.name = linker_info['name']\n",
    "        self.atom_names = linker_info['atom_names']\n",
    "        self.atom_coors = linker_info['atom_coors']\n",
    "        self.num_of_atoms = linker_info['num_of_atoms']\n",
    "        self.connectivity = linker_info['connectivity']\n",
    "        \n",
    "    def read_linker(self, linker_index):\n",
    "        linker_info = {'atom_names': [], 'atom_coors': [], 'num_of_atoms': 0, 'connectivity': []}\n",
    "        linker_info['num_of_atoms'] = number_of_atoms[linker_index]\n",
    "        linker_info['atom_names'] = atom_names[linker_index]\n",
    "        linker_info['atom_coors'] = atom_coors[linker_index]\n",
    "        linker_info['name'] = linker_names[linker_index]\n",
    "        return linker_info\n",
    "    \n",
    "    def mirror(self, mirror_info):\n",
    "        if mirror_info == [1, 1, 1]:\n",
    "            mirror_operator = [-1, -1, -1]\n",
    "        else:\n",
    "            mirror_operator = [1, 1, 1]\n",
    "            for axis_index, axis in enumerate(mirror_info):\n",
    "                if axis == 0:\n",
    "                    mirror_operator[axis_index] = -1\n",
    "        mirror_coordinates = []\n",
    "        for coor in self.atom_coors:\n",
    "            mirror_coor = []\n",
    "            for axis_index, mirror_axis in enumerate(mirror_operator):\n",
    "                mirror_coor.append(coor[axis_index] * mirror_axis)\n",
    "            mirror_coordinates.append(mirror_coor)\n",
    "\n",
    "        mirror_linker = Linker(self.index)\n",
    "        mirror_linker.atom_coors = mirror_coordinates\n",
    "        return mirror_linker\n",
    "    \n",
    "    def translate(self, translation_info):\n",
    "        translation_coordinates = []\n",
    "        for coor in self.atom_coors:\n",
    "            translation_coor = []\n",
    "            for axis_index, translation_amount in enumerate(translation_info):\n",
    "                translation_coor.append(coor[axis_index] + translation_amount)\n",
    "            translation_coordinates.append(translation_coor)\n",
    "        self.atom_coors = translation_coordinates\n",
    "    \n",
    "    def join(self, other_linker):\n",
    "        joined_linker = Linker(self.index)\n",
    "        joined_linker.atom_coors = self.atom_coors + other_linker.atom_coors\n",
    "        joined_linker.atom_names = self.atom_names + other_linker.atom_names\n",
    "        joined_linker.num_of_atoms = len(self.atom_names) + len(other_linker.atom_names)\n",
    "        if self.name == other_linker.name:\n",
    "            joined_linker.name = self.name + 'JOINED'\n",
    "        return joined_linker\n",
    "    \n",
    "    def export(self):\n",
    "        export_index = os.getcwd()\n",
    "        linker_path = os.path.join(export_index, self.name + '.xyz')\n",
    "        linker_file = open(linker_path, 'w')\n",
    "        linker_file.write(str(self.num_of_atoms) + '\\n')\n",
    "        linker_file.write(self.name + '\\n')\n",
    "        for atom, coor in zip(self.atom_names, self.atom_coors):\n",
    "            coor_line = atom + ' ' + str(coor[0]) + ' '\n",
    "            coor_line += str(coor[1]) + ' ' + str(coor[2]) + '\\n'\n",
    "            linker_file.write(coor_line)\n",
    "        linker_file.close()\n",
    "        "
   ]
  },
  {
   "cell_type": "code",
   "execution_count": null,
   "metadata": {
    "collapsed": false
   },
   "outputs": [],
   "source": [
    "L = Linker(5)"
   ]
  },
  {
   "cell_type": "code",
   "execution_count": null,
   "metadata": {
    "collapsed": false
   },
   "outputs": [],
   "source": [
    "L2 = L.mirror([1, 0, 1])"
   ]
  },
  {
   "cell_type": "code",
   "execution_count": null,
   "metadata": {
    "collapsed": false
   },
   "outputs": [],
   "source": [
    "L2.translate([0, 10, 0])"
   ]
  },
  {
   "cell_type": "code",
   "execution_count": null,
   "metadata": {
    "collapsed": false
   },
   "outputs": [],
   "source": [
    "L3 = L.join(L2)"
   ]
  },
  {
   "cell_type": "code",
   "execution_count": null,
   "metadata": {
    "collapsed": false
   },
   "outputs": [],
   "source": [
    "L3.export()"
   ]
  },
  {
   "cell_type": "code",
   "execution_count": null,
   "metadata": {
    "collapsed": false
   },
   "outputs": [],
   "source": []
  },
  {
   "cell_type": "code",
   "execution_count": null,
   "metadata": {
    "collapsed": false
   },
   "outputs": [],
   "source": []
  },
  {
   "cell_type": "code",
   "execution_count": null,
   "metadata": {
    "collapsed": true
   },
   "outputs": [],
   "source": []
  },
  {
   "cell_type": "code",
   "execution_count": null,
   "metadata": {
    "collapsed": true
   },
   "outputs": [],
   "source": []
  },
  {
   "cell_type": "code",
   "execution_count": null,
   "metadata": {
    "collapsed": true
   },
   "outputs": [],
   "source": []
  }
 ],
 "metadata": {
  "kernelspec": {
   "display_name": "Python 3",
   "language": "python",
   "name": "python3"
  },
  "language_info": {
   "codemirror_mode": {
    "name": "ipython",
    "version": 3
   },
   "file_extension": ".py",
   "mimetype": "text/x-python",
   "name": "python",
   "nbconvert_exporter": "python",
   "pygments_lexer": "ipython3",
   "version": "3.5.2"
  }
 },
 "nbformat": 4,
 "nbformat_minor": 0
}
